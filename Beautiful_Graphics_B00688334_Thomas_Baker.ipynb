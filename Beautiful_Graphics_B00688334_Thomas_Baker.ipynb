{
 "cells": [
  {
   "cell_type": "code",
   "execution_count": 2,
   "metadata": {},
   "outputs": [
    {
     "name": "stderr",
     "output_type": "stream",
     "text": [
      "Loading required package: xml2\n",
      "\n",
      "Attaching package: 'dplyr'\n",
      "\n",
      "The following objects are masked from 'package:stats':\n",
      "\n",
      "    filter, lag\n",
      "\n",
      "The following objects are masked from 'package:base':\n",
      "\n",
      "    intersect, setdiff, setequal, union\n",
      "\n"
     ]
    }
   ],
   "source": [
    "library(rvest)\n",
    "library(dplyr)"
   ]
  },
  {
   "cell_type": "code",
   "execution_count": 3,
   "metadata": {},
   "outputs": [],
   "source": [
    "BAEA_First_Atlas = read_html(\"https://www.mba-aom.ca/jsp/datasummaries.jsp?extent=Rg&summtype=SqList&year=allyrs&atlasver=1&byextent1=Prov&byextent2=Sq&region2=1&squarePC=&region1=0&square=&region3=0&species1=BAEA&lang=en\")\n",
    "BAEA_Second_Atlas = read_html(\"https://www.mba-aom.ca/jsp/datasummaries.jsp?extent=Rg&summtype=SqList&year=allyrs&atlasver=2&byextent1=Prov&byextent2=Sq&region2=1&squarePC=&region1=0&square=&region3=0&species1=BAEA&lang=en\")"
   ]
  },
  {
   "cell_type": "code",
   "execution_count": 4,
   "metadata": {},
   "outputs": [
    {
     "data": {
      "text/html": [
       "<table>\n",
       "<thead><tr><th scope=col>X1</th><th scope=col>X2</th><th scope=col>X3</th><th scope=col>X4</th><th scope=col>X5</th><th scope=col>X6</th><th scope=col>X7</th><th scope=col>X8</th><th scope=col>X9</th><th scope=col>X10</th></tr></thead>\n",
       "<tbody>\n",
       "\t<tr><td>Region           </td><td>Species          </td><td>Breeding Evidence</td><td>Breeding Evidence</td><td>Breeding Evidence</td><td>Breeding Evidence</td><td>Point Counts     </td><td>Point Counts     </td><td>Point Counts     </td><td>Point Counts     </td></tr>\n",
       "\t<tr><td>Region           </td><td>Species          </td><td>Max BE           </td><td>Categ            </td><td>#Sq              </td><td>Atlasser Name    </td><td>#PC              </td><td>%PC              </td><td>Abun             </td><td>#Sq              </td></tr>\n",
       "\t<tr><td>1                </td><td>Bald Eagle       </td><td>H                </td><td>POSS             </td><td>5                </td><td>                 </td><td>                 </td><td>                 </td><td>                 </td><td>                 </td></tr>\n",
       "\t<tr><td>5                </td><td>Bald Eagle       </td><td>P                </td><td>PROB             </td><td>3                </td><td>                 </td><td>                 </td><td>                 </td><td>                 </td><td>                 </td></tr>\n",
       "\t<tr><td>6                </td><td>Bald Eagle       </td><td>NY               </td><td>CONF             </td><td>2                </td><td>                 </td><td>                 </td><td>                 </td><td>                 </td><td>                 </td></tr>\n",
       "\t<tr><td>7                </td><td>Bald Eagle       </td><td>NY               </td><td>CONF             </td><td>17               </td><td>                 </td><td>                 </td><td>                 </td><td>                 </td><td>                 </td></tr>\n",
       "\t<tr><td>8                </td><td>Bald Eagle       </td><td>T                </td><td>PROB             </td><td>4                </td><td>                 </td><td>                 </td><td>                 </td><td>                 </td><td>                 </td></tr>\n",
       "\t<tr><td>9                </td><td>Bald Eagle       </td><td>NY               </td><td>CONF             </td><td>3                </td><td>                 </td><td>                 </td><td>                 </td><td>                 </td><td>                 </td></tr>\n",
       "\t<tr><td>10               </td><td>Bald Eagle       </td><td>NY               </td><td>CONF             </td><td>24               </td><td>                 </td><td>                 </td><td>                 </td><td>                 </td><td>                 </td></tr>\n",
       "\t<tr><td>11               </td><td>Bald Eagle       </td><td>NY               </td><td>CONF             </td><td>24               </td><td>                 </td><td>                 </td><td>                 </td><td>                 </td><td>                 </td></tr>\n",
       "\t<tr><td>12               </td><td>Bald Eagle       </td><td>NY               </td><td>CONF             </td><td>10               </td><td>                 </td><td>                 </td><td>                 </td><td>                 </td><td>                 </td></tr>\n",
       "\t<tr><td>13               </td><td>Bald Eagle       </td><td>NY               </td><td>CONF             </td><td>1                </td><td>                 </td><td>                 </td><td>                 </td><td>                 </td><td>                 </td></tr>\n",
       "\t<tr><td>14               </td><td>Bald Eagle       </td><td>NY               </td><td>CONF             </td><td>9                </td><td>                 </td><td>                 </td><td>                 </td><td>                 </td><td>                 </td></tr>\n",
       "\t<tr><td>15               </td><td>Bald Eagle       </td><td>NY               </td><td>CONF             </td><td>7                </td><td>                 </td><td>                 </td><td>                 </td><td>                 </td><td>                 </td></tr>\n",
       "\t<tr><td>16               </td><td>Bald Eagle       </td><td>NY               </td><td>CONF             </td><td>15               </td><td>                 </td><td>                 </td><td>                 </td><td>                 </td><td>                 </td></tr>\n",
       "\t<tr><td>17               </td><td>Bald Eagle       </td><td>NY               </td><td>CONF             </td><td>5                </td><td>                 </td><td>                 </td><td>                 </td><td>                 </td><td>                 </td></tr>\n",
       "\t<tr><td>18               </td><td>Bald Eagle       </td><td>T                </td><td>PROB             </td><td>1                </td><td>                 </td><td>                 </td><td>                 </td><td>                 </td><td>                 </td></tr>\n",
       "\t<tr><td>19               </td><td>Bald Eagle       </td><td>NY               </td><td>CONF             </td><td>9                </td><td>                 </td><td>                 </td><td>                 </td><td>                 </td><td>                 </td></tr>\n",
       "\t<tr><td>20               </td><td>Bald Eagle       </td><td>NY               </td><td>CONF             </td><td>23               </td><td>                 </td><td>                 </td><td>                 </td><td>                 </td><td>                 </td></tr>\n",
       "\t<tr><td>21               </td><td>Bald Eagle       </td><td>NY               </td><td>CONF             </td><td>17               </td><td>                 </td><td>                 </td><td>                 </td><td>                 </td><td>                 </td></tr>\n",
       "\t<tr><td>22               </td><td>Bald Eagle       </td><td>NY               </td><td>CONF             </td><td>15               </td><td>                 </td><td>                 </td><td>                 </td><td>                 </td><td>                 </td></tr>\n",
       "\t<tr><td>23               </td><td>Bald Eagle       </td><td>NY               </td><td>CONF             </td><td>19               </td><td>                 </td><td>                 </td><td>                 </td><td>                 </td><td>                 </td></tr>\n",
       "\t<tr><td>24               </td><td>Bald Eagle       </td><td>NY               </td><td>CONF             </td><td>37               </td><td>                 </td><td>                 </td><td>                 </td><td>                 </td><td>                 </td></tr>\n",
       "\t<tr><td>25               </td><td>Bald Eagle       </td><td>NY               </td><td>CONF             </td><td>29               </td><td>                 </td><td>                 </td><td>                 </td><td>                 </td><td>                 </td></tr>\n",
       "\t<tr><td>26               </td><td>Bald Eagle       </td><td>NY               </td><td>CONF             </td><td>23               </td><td>                 </td><td>                 </td><td>                 </td><td>                 </td><td>                 </td></tr>\n",
       "\t<tr><td>27               </td><td>Bald Eagle       </td><td>NY               </td><td>CONF             </td><td>23               </td><td>                 </td><td>                 </td><td>                 </td><td>                 </td><td>                 </td></tr>\n",
       "</tbody>\n",
       "</table>\n"
      ],
      "text/latex": [
       "\\begin{tabular}{r|llllllllll}\n",
       " X1 & X2 & X3 & X4 & X5 & X6 & X7 & X8 & X9 & X10\\\\\n",
       "\\hline\n",
       "\t Region            & Species           & Breeding Evidence & Breeding Evidence & Breeding Evidence & Breeding Evidence & Point Counts      & Point Counts      & Point Counts      & Point Counts     \\\\\n",
       "\t Region              & Species             & Max BE              & Categ               & \\#Sq               & Atlasser Name       & \\#PC               & \\%PC               & Abun                & \\#Sq              \\\\\n",
       "\t 1                 & Bald Eagle        & H                 & POSS              & 5                 &                   &                   &                   &                   &                  \\\\\n",
       "\t 5                 & Bald Eagle        & P                 & PROB              & 3                 &                   &                   &                   &                   &                  \\\\\n",
       "\t 6                 & Bald Eagle        & NY                & CONF              & 2                 &                   &                   &                   &                   &                  \\\\\n",
       "\t 7                 & Bald Eagle        & NY                & CONF              & 17                &                   &                   &                   &                   &                  \\\\\n",
       "\t 8                 & Bald Eagle        & T                 & PROB              & 4                 &                   &                   &                   &                   &                  \\\\\n",
       "\t 9                 & Bald Eagle        & NY                & CONF              & 3                 &                   &                   &                   &                   &                  \\\\\n",
       "\t 10                & Bald Eagle        & NY                & CONF              & 24                &                   &                   &                   &                   &                  \\\\\n",
       "\t 11                & Bald Eagle        & NY                & CONF              & 24                &                   &                   &                   &                   &                  \\\\\n",
       "\t 12                & Bald Eagle        & NY                & CONF              & 10                &                   &                   &                   &                   &                  \\\\\n",
       "\t 13                & Bald Eagle        & NY                & CONF              & 1                 &                   &                   &                   &                   &                  \\\\\n",
       "\t 14                & Bald Eagle        & NY                & CONF              & 9                 &                   &                   &                   &                   &                  \\\\\n",
       "\t 15                & Bald Eagle        & NY                & CONF              & 7                 &                   &                   &                   &                   &                  \\\\\n",
       "\t 16                & Bald Eagle        & NY                & CONF              & 15                &                   &                   &                   &                   &                  \\\\\n",
       "\t 17                & Bald Eagle        & NY                & CONF              & 5                 &                   &                   &                   &                   &                  \\\\\n",
       "\t 18                & Bald Eagle        & T                 & PROB              & 1                 &                   &                   &                   &                   &                  \\\\\n",
       "\t 19                & Bald Eagle        & NY                & CONF              & 9                 &                   &                   &                   &                   &                  \\\\\n",
       "\t 20                & Bald Eagle        & NY                & CONF              & 23                &                   &                   &                   &                   &                  \\\\\n",
       "\t 21                & Bald Eagle        & NY                & CONF              & 17                &                   &                   &                   &                   &                  \\\\\n",
       "\t 22                & Bald Eagle        & NY                & CONF              & 15                &                   &                   &                   &                   &                  \\\\\n",
       "\t 23                & Bald Eagle        & NY                & CONF              & 19                &                   &                   &                   &                   &                  \\\\\n",
       "\t 24                & Bald Eagle        & NY                & CONF              & 37                &                   &                   &                   &                   &                  \\\\\n",
       "\t 25                & Bald Eagle        & NY                & CONF              & 29                &                   &                   &                   &                   &                  \\\\\n",
       "\t 26                & Bald Eagle        & NY                & CONF              & 23                &                   &                   &                   &                   &                  \\\\\n",
       "\t 27                & Bald Eagle        & NY                & CONF              & 23                &                   &                   &                   &                   &                  \\\\\n",
       "\\end{tabular}\n"
      ],
      "text/markdown": [
       "\n",
       "X1 | X2 | X3 | X4 | X5 | X6 | X7 | X8 | X9 | X10 | \n",
       "|---|---|---|---|---|---|---|---|---|---|---|---|---|---|---|---|---|---|---|---|---|---|---|---|---|---|\n",
       "| Region            | Species           | Breeding Evidence | Breeding Evidence | Breeding Evidence | Breeding Evidence | Point Counts      | Point Counts      | Point Counts      | Point Counts      | \n",
       "| Region            | Species           | Max BE            | Categ             | #Sq               | Atlasser Name     | #PC               | %PC               | Abun              | #Sq               | \n",
       "| 1                 | Bald Eagle        | H                 | POSS              | 5                 |                   |                   |                   |                   |                   | \n",
       "| 5                 | Bald Eagle        | P                 | PROB              | 3                 |                   |                   |                   |                   |                   | \n",
       "| 6                 | Bald Eagle        | NY                | CONF              | 2                 |                   |                   |                   |                   |                   | \n",
       "| 7                 | Bald Eagle        | NY                | CONF              | 17                |                   |                   |                   |                   |                   | \n",
       "| 8                 | Bald Eagle        | T                 | PROB              | 4                 |                   |                   |                   |                   |                   | \n",
       "| 9                 | Bald Eagle        | NY                | CONF              | 3                 |                   |                   |                   |                   |                   | \n",
       "| 10                | Bald Eagle        | NY                | CONF              | 24                |                   |                   |                   |                   |                   | \n",
       "| 11                | Bald Eagle        | NY                | CONF              | 24                |                   |                   |                   |                   |                   | \n",
       "| 12                | Bald Eagle        | NY                | CONF              | 10                |                   |                   |                   |                   |                   | \n",
       "| 13                | Bald Eagle        | NY                | CONF              | 1                 |                   |                   |                   |                   |                   | \n",
       "| 14                | Bald Eagle        | NY                | CONF              | 9                 |                   |                   |                   |                   |                   | \n",
       "| 15                | Bald Eagle        | NY                | CONF              | 7                 |                   |                   |                   |                   |                   | \n",
       "| 16                | Bald Eagle        | NY                | CONF              | 15                |                   |                   |                   |                   |                   | \n",
       "| 17                | Bald Eagle        | NY                | CONF              | 5                 |                   |                   |                   |                   |                   | \n",
       "| 18                | Bald Eagle        | T                 | PROB              | 1                 |                   |                   |                   |                   |                   | \n",
       "| 19                | Bald Eagle        | NY                | CONF              | 9                 |                   |                   |                   |                   |                   | \n",
       "| 20                | Bald Eagle        | NY                | CONF              | 23                |                   |                   |                   |                   |                   | \n",
       "| 21                | Bald Eagle        | NY                | CONF              | 17                |                   |                   |                   |                   |                   | \n",
       "| 22                | Bald Eagle        | NY                | CONF              | 15                |                   |                   |                   |                   |                   | \n",
       "| 23                | Bald Eagle        | NY                | CONF              | 19                |                   |                   |                   |                   |                   | \n",
       "| 24                | Bald Eagle        | NY                | CONF              | 37                |                   |                   |                   |                   |                   | \n",
       "| 25                | Bald Eagle        | NY                | CONF              | 29                |                   |                   |                   |                   |                   | \n",
       "| 26                | Bald Eagle        | NY                | CONF              | 23                |                   |                   |                   |                   |                   | \n",
       "| 27                | Bald Eagle        | NY                | CONF              | 23                |                   |                   |                   |                   |                   | \n",
       "\n",
       "\n"
      ],
      "text/plain": [
       "   X1     X2         X3                X4                X5               \n",
       "1  Region Species    Breeding Evidence Breeding Evidence Breeding Evidence\n",
       "2  Region Species    Max BE            Categ             #Sq              \n",
       "3  1      Bald Eagle H                 POSS              5                \n",
       "4  5      Bald Eagle P                 PROB              3                \n",
       "5  6      Bald Eagle NY                CONF              2                \n",
       "6  7      Bald Eagle NY                CONF              17               \n",
       "7  8      Bald Eagle T                 PROB              4                \n",
       "8  9      Bald Eagle NY                CONF              3                \n",
       "9  10     Bald Eagle NY                CONF              24               \n",
       "10 11     Bald Eagle NY                CONF              24               \n",
       "11 12     Bald Eagle NY                CONF              10               \n",
       "12 13     Bald Eagle NY                CONF              1                \n",
       "13 14     Bald Eagle NY                CONF              9                \n",
       "14 15     Bald Eagle NY                CONF              7                \n",
       "15 16     Bald Eagle NY                CONF              15               \n",
       "16 17     Bald Eagle NY                CONF              5                \n",
       "17 18     Bald Eagle T                 PROB              1                \n",
       "18 19     Bald Eagle NY                CONF              9                \n",
       "19 20     Bald Eagle NY                CONF              23               \n",
       "20 21     Bald Eagle NY                CONF              17               \n",
       "21 22     Bald Eagle NY                CONF              15               \n",
       "22 23     Bald Eagle NY                CONF              19               \n",
       "23 24     Bald Eagle NY                CONF              37               \n",
       "24 25     Bald Eagle NY                CONF              29               \n",
       "25 26     Bald Eagle NY                CONF              23               \n",
       "26 27     Bald Eagle NY                CONF              23               \n",
       "   X6                X7           X8           X9           X10         \n",
       "1  Breeding Evidence Point Counts Point Counts Point Counts Point Counts\n",
       "2  Atlasser Name     #PC          %PC          Abun         #Sq         \n",
       "3                                                                       \n",
       "4                                                                       \n",
       "5                                                                       \n",
       "6                                                                       \n",
       "7                                                                       \n",
       "8                                                                       \n",
       "9                                                                       \n",
       "10                                                                      \n",
       "11                                                                      \n",
       "12                                                                      \n",
       "13                                                                      \n",
       "14                                                                      \n",
       "15                                                                      \n",
       "16                                                                      \n",
       "17                                                                      \n",
       "18                                                                      \n",
       "19                                                                      \n",
       "20                                                                      \n",
       "21                                                                      \n",
       "22                                                                      \n",
       "23                                                                      \n",
       "24                                                                      \n",
       "25                                                                      \n",
       "26                                                                      "
      ]
     },
     "metadata": {},
     "output_type": "display_data"
    }
   ],
   "source": [
    "BAEA_First_Atlas %>% html_nodes(\"table\") %>% .[[2]] %>% html_table(fill = TRUE)"
   ]
  },
  {
   "cell_type": "code",
   "execution_count": 5,
   "metadata": {},
   "outputs": [],
   "source": [
    "BAEA_First_Atlas_Table = BAEA_First_Atlas %>% html_nodes(\"table\") %>% .[[2]] %>% html_table(fill = TRUE)\n",
    "BAEA_Second_Atlas_Table = BAEA_Second_Atlas %>% html_nodes(\"table\") %>% .[[2]] %>% html_table(fill = TRUE)"
   ]
  },
  {
   "cell_type": "code",
   "execution_count": 6,
   "metadata": {},
   "outputs": [],
   "source": [
    "Maritime_BBA_Accipiter_Table = data.frame(nrow = 51, ncol = 4)"
   ]
  },
  {
   "cell_type": "code",
   "execution_count": 7,
   "metadata": {},
   "outputs": [],
   "source": [
    "j = 3\n",
    "for (i in 1:24){\n",
    "    Maritime_BBA_Accipiter_Table[i,1] = \"Bald_Eagle\"\n",
    "    Maritime_BBA_Accipiter_Table[i,2] = \"First_(1886-1990)\"\n",
    "    Maritime_BBA_Accipiter_Table[i,3] = BAEA_First_Atlas_Table[j,1]\n",
    "    Maritime_BBA_Accipiter_Table[i,4] = BAEA_First_Atlas_Table[j,5]\n",
    "    j = j + 1\n",
    "}\n",
    "j = 3\n",
    "for (i in 25:51){\n",
    "    Maritime_BBA_Accipiter_Table[i,1] = \"Bald_Eagle\"\n",
    "    Maritime_BBA_Accipiter_Table[i,2] = \"Second_(1886-1990)\"\n",
    "    Maritime_BBA_Accipiter_Table[i,3] = BAEA_Second_Atlas_Table[j,1]\n",
    "    Maritime_BBA_Accipiter_Table[i,4] = BAEA_Second_Atlas_Table[j,5]\n",
    "    j = j + 1\n",
    "}"
   ]
  },
  {
   "cell_type": "code",
   "execution_count": 8,
   "metadata": {},
   "outputs": [
    {
     "name": "stdout",
     "output_type": "stream",
     "text": [
      "      Species              Atlas Region Number_of_Squares_with_Species\n",
      "1  Bald_Eagle  First_(1886-1990)      1                              5\n",
      "2  Bald_Eagle  First_(1886-1990)      5                              3\n",
      "3  Bald_Eagle  First_(1886-1990)      6                              2\n",
      "4  Bald_Eagle  First_(1886-1990)      7                             17\n",
      "5  Bald_Eagle  First_(1886-1990)      8                              4\n",
      "6  Bald_Eagle  First_(1886-1990)      9                              3\n",
      "7  Bald_Eagle  First_(1886-1990)     10                             24\n",
      "8  Bald_Eagle  First_(1886-1990)     11                             24\n",
      "9  Bald_Eagle  First_(1886-1990)     12                             10\n",
      "10 Bald_Eagle  First_(1886-1990)     13                              1\n",
      "11 Bald_Eagle  First_(1886-1990)     14                              9\n",
      "12 Bald_Eagle  First_(1886-1990)     15                              7\n",
      "13 Bald_Eagle  First_(1886-1990)     16                             15\n",
      "14 Bald_Eagle  First_(1886-1990)     17                              5\n",
      "15 Bald_Eagle  First_(1886-1990)     18                              1\n",
      "16 Bald_Eagle  First_(1886-1990)     19                              9\n",
      "17 Bald_Eagle  First_(1886-1990)     20                             23\n",
      "18 Bald_Eagle  First_(1886-1990)     21                             17\n",
      "19 Bald_Eagle  First_(1886-1990)     22                             15\n",
      "20 Bald_Eagle  First_(1886-1990)     23                             19\n",
      "21 Bald_Eagle  First_(1886-1990)     24                             37\n",
      "22 Bald_Eagle  First_(1886-1990)     25                             29\n",
      "23 Bald_Eagle  First_(1886-1990)     26                             23\n",
      "24 Bald_Eagle  First_(1886-1990)     27                             23\n",
      "25 Bald_Eagle Second_(1886-1990)      1                             24\n",
      "26 Bald_Eagle Second_(1886-1990)      2                              9\n",
      "27 Bald_Eagle Second_(1886-1990)      3                             19\n",
      "28 Bald_Eagle Second_(1886-1990)      4                             19\n",
      "29 Bald_Eagle Second_(1886-1990)      5                              9\n",
      "30 Bald_Eagle Second_(1886-1990)      6                             29\n",
      "31 Bald_Eagle Second_(1886-1990)      7                             24\n",
      "32 Bald_Eagle Second_(1886-1990)      8                             10\n",
      "33 Bald_Eagle Second_(1886-1990)      9                             15\n",
      "34 Bald_Eagle Second_(1886-1990)     10                             34\n",
      "35 Bald_Eagle Second_(1886-1990)     11                             31\n",
      "36 Bald_Eagle Second_(1886-1990)     12                             36\n",
      "37 Bald_Eagle Second_(1886-1990)     13                             21\n",
      "38 Bald_Eagle Second_(1886-1990)     14                             30\n",
      "39 Bald_Eagle Second_(1886-1990)     15                             20\n",
      "40 Bald_Eagle Second_(1886-1990)     16                             38\n",
      "41 Bald_Eagle Second_(1886-1990)     17                              9\n",
      "42 Bald_Eagle Second_(1886-1990)     18                              7\n",
      "43 Bald_Eagle Second_(1886-1990)     19                             40\n",
      "44 Bald_Eagle Second_(1886-1990)     20                             68\n",
      "45 Bald_Eagle Second_(1886-1990)     21                             54\n",
      "46 Bald_Eagle Second_(1886-1990)     22                             27\n",
      "47 Bald_Eagle Second_(1886-1990)     23                             35\n",
      "48 Bald_Eagle Second_(1886-1990)     24                             48\n",
      "49 Bald_Eagle Second_(1886-1990)     25                             53\n",
      "50 Bald_Eagle Second_(1886-1990)     26                             33\n",
      "51 Bald_Eagle Second_(1886-1990)     27                             67\n"
     ]
    }
   ],
   "source": [
    "colnames(Maritime_BBA_Accipiter_Table) = c(\"Species\", \"Atlas\", \"Region\", \"Number_of_Squares_with_Species\")\n",
    "print(Maritime_BBA_Accipiter_Table)"
   ]
  },
  {
   "cell_type": "code",
   "execution_count": 9,
   "metadata": {},
   "outputs": [],
   "source": [
    "Differences_Between_Atlases_Table = data.frame(nrow = 24, ncol = 3)"
   ]
  },
  {
   "cell_type": "code",
   "execution_count": 10,
   "metadata": {},
   "outputs": [],
   "source": [
    "j = 1\n",
    "k = 25\n",
    "l = 1\n",
    "for (i in 1:24){\n",
    "    Differences_Between_Atlases_Table[i,1] = \"Bald_Eagle\"\n",
    "    Differences_Between_Atlases_Table[i,2] = Maritime_BBA_Accipiter_Table[j,3]\n",
    "    Differences_Between_Atlases_Table[i,3] = as.numeric(Maritime_BBA_Accipiter_Table[k,4]) - as.numeric(Maritime_BBA_Accipiter_Table[l,4])\n",
    "    j = j + 1 \n",
    "    k = k + 1\n",
    "    if (k == 26){\n",
    "        k = k + 3\n",
    "    }\n",
    "    l = l + 1\n",
    "}"
   ]
  },
  {
   "cell_type": "code",
   "execution_count": 11,
   "metadata": {},
   "outputs": [
    {
     "name": "stdout",
     "output_type": "stream",
     "text": [
      "      Species Region Change_in_Number_of_Squares_with_Species\n",
      "1  Bald_Eagle      1                                       19\n",
      "2  Bald_Eagle      5                                        6\n",
      "3  Bald_Eagle      6                                       27\n",
      "4  Bald_Eagle      7                                        7\n",
      "5  Bald_Eagle      8                                        6\n",
      "6  Bald_Eagle      9                                       12\n",
      "7  Bald_Eagle     10                                       10\n",
      "8  Bald_Eagle     11                                        7\n",
      "9  Bald_Eagle     12                                       26\n",
      "10 Bald_Eagle     13                                       20\n",
      "11 Bald_Eagle     14                                       21\n",
      "12 Bald_Eagle     15                                       13\n",
      "13 Bald_Eagle     16                                       23\n",
      "14 Bald_Eagle     17                                        4\n",
      "15 Bald_Eagle     18                                        6\n",
      "16 Bald_Eagle     19                                       31\n",
      "17 Bald_Eagle     20                                       45\n",
      "18 Bald_Eagle     21                                       37\n",
      "19 Bald_Eagle     22                                       12\n",
      "20 Bald_Eagle     23                                       16\n",
      "21 Bald_Eagle     24                                       11\n",
      "22 Bald_Eagle     25                                       24\n",
      "23 Bald_Eagle     26                                       10\n",
      "24 Bald_Eagle     27                                       44\n"
     ]
    }
   ],
   "source": [
    "colnames(Differences_Between_Atlases_Table) = c(\"Species\", \"Region\", \"Change_in_Number_of_Squares_with_Species\")\n",
    "print(Differences_Between_Atlases_Table)"
   ]
  },
  {
   "cell_type": "code",
   "execution_count": 12,
   "metadata": {},
   "outputs": [],
   "source": [
    "library(ggplot2)"
   ]
  },
  {
   "cell_type": "code",
   "execution_count": 13,
   "metadata": {},
   "outputs": [],
   "source": [
    "Maritime_BBA_Accipiter_Table_BAEA = read.table(header=TRUE, text=\"Species              Atlas Region Number_of_Squares_with_Species\n",
    "161         Bald_Eagle  First_(1886-1990)      1                              5\n",
    "162         Bald_Eagle  First_(1886-1990)      5                              3\n",
    "163         Bald_Eagle  First_(1886-1990)      6                              2\n",
    "164         Bald_Eagle  First_(1886-1990)      7                             17\n",
    "165         Bald_Eagle  First_(1886-1990)      8                              4\n",
    "166         Bald_Eagle  First_(1886-1990)      9                              3\n",
    "167         Bald_Eagle  First_(1886-1990)     10                             24\n",
    "168         Bald_Eagle  First_(1886-1990)     11                             24\n",
    "169         Bald_Eagle  First_(1886-1990)     12                             10\n",
    "170         Bald_Eagle  First_(1886-1990)     13                              1\n",
    "171         Bald_Eagle  First_(1886-1990)     14                              9\n",
    "172         Bald_Eagle  First_(1886-1990)     15                              7\n",
    "173         Bald_Eagle  First_(1886-1990)     16                             15\n",
    "174         Bald_Eagle  First_(1886-1990)     17                              5\n",
    "175         Bald_Eagle  First_(1886-1990)     18                              1\n",
    "176         Bald_Eagle  First_(1886-1990)     19                              9\n",
    "177         Bald_Eagle  First_(1886-1990)     20                             23\n",
    "178         Bald_Eagle  First_(1886-1990)     21                             17\n",
    "179         Bald_Eagle  First_(1886-1990)     22                             15\n",
    "180         Bald_Eagle  First_(1886-1990)     23                             19\n",
    "181         Bald_Eagle  First_(1886-1990)     24                             37\n",
    "182         Bald_Eagle  First_(1886-1990)     25                             29\n",
    "183         Bald_Eagle  First_(1886-1990)     26                             23\n",
    "184         Bald_Eagle  First_(1886-1990)     27                             23\n",
    "185         Bald_Eagle Second_(1886-1990)      1                             24\n",
    "186         Bald_Eagle Second_(1886-1990)      2                              9\n",
    "187         Bald_Eagle Second_(1886-1990)      3                             19\n",
    "188         Bald_Eagle Second_(1886-1990)      4                             19\n",
    "189         Bald_Eagle Second_(1886-1990)      5                              9\n",
    "190         Bald_Eagle Second_(1886-1990)      6                             29\n",
    "191         Bald_Eagle Second_(1886-1990)      7                             24\n",
    "192         Bald_Eagle Second_(1886-1990)      8                             10\n",
    "193         Bald_Eagle Second_(1886-1990)      9                             15\n",
    "194         Bald_Eagle Second_(1886-1990)     10                             34\n",
    "195         Bald_Eagle Second_(1886-1990)     11                             31\n",
    "196         Bald_Eagle Second_(1886-1990)     12                             36\n",
    "197         Bald_Eagle Second_(1886-1990)     13                             21\n",
    "198         Bald_Eagle Second_(1886-1990)     14                             30\n",
    "199         Bald_Eagle Second_(1886-1990)     15                             20\n",
    "200         Bald_Eagle Second_(1886-1990)     16                             38\n",
    "201         Bald_Eagle Second_(1886-1990)     17                              9\n",
    "202         Bald_Eagle Second_(1886-1990)     18                              7\n",
    "203         Bald_Eagle Second_(1886-1990)     19                             40\n",
    "204         Bald_Eagle Second_(1886-1990)     20                             68\n",
    "205         Bald_Eagle Second_(1886-1990)     21                             54\n",
    "206         Bald_Eagle Second_(1886-1990)     22                             27\n",
    "207         Bald_Eagle Second_(1886-1990)     23                             35\n",
    "208         Bald_Eagle Second_(1886-1990)     24                             48\n",
    "209         Bald_Eagle Second_(1886-1990)     25                             53\n",
    "210         Bald_Eagle Second_(1886-1990)     26                             33\n",
    "211         Bald_Eagle Second_(1886-1990)     27                             67\")\n",
    "\n",
    "colours = c(\"#89A4DC\", \"#83593A\")\n",
    "BAEAPlot = ggplot(Maritime_BBA_Accipiter_Table_BAEA, aes(factor(Region), Number_of_Squares_with_Species, fill = Atlas)) + \n",
    "  geom_tile(stat=\"identity\", position = \"dodge\") + \n",
    "  scale_fill_manual(values = colours)"
   ]
  },
  {
   "cell_type": "code",
   "execution_count": 16,
   "metadata": {},
   "outputs": [
    {
     "data": {
      "text/html": [
       "<strong>png:</strong> 2"
      ],
      "text/latex": [
       "\\textbf{png:} 2"
      ],
      "text/markdown": [
       "**png:** 2"
      ],
      "text/plain": [
       "png \n",
       "  2 "
      ]
     },
     "metadata": {},
     "output_type": "display_data"
    }
   ],
   "source": [
    "pdf('BeautifulGraphics.pdf',useDingbats=FALSE, width=7.2, height=4.5, family='Helvetica')\n",
    "print(BAEAPlot \n",
    "      + labs(x = \"Region\", y = \"Number of Squares with Species\", caption = \"Figure 1:  Grouped bar plot showing the number of squares with \n",
    "Bald Eagle occurences in each region and during each Atlas\") \n",
    "      + theme_bw() \n",
    "      + theme(panel.border = element_blank(), panel.grid.major = element_blank(), panel.grid.minor = element_blank(), axis.line = element_blank())) \n",
    "dev.off()"
   ]
  },
  {
   "cell_type": "code",
   "execution_count": null,
   "metadata": {},
   "outputs": [],
   "source": []
  }
 ],
 "metadata": {
  "kernelspec": {
   "display_name": "R",
   "language": "R",
   "name": "ir"
  },
  "language_info": {
   "codemirror_mode": "r",
   "file_extension": ".r",
   "mimetype": "text/x-r-source",
   "name": "R",
   "pygments_lexer": "r",
   "version": "3.4.3"
  }
 },
 "nbformat": 4,
 "nbformat_minor": 2
}
